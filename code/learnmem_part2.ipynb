{
 "cells": [
  {
   "cell_type": "markdown",
   "metadata": {},
   "source": [
    "# LEARNING AND MEMORY TUTORIAL\n",
    "# PART II: ASSOCIATIVE MEMORY"
   ]
  },
  {
   "cell_type": "code",
   "execution_count": 2,
   "metadata": {
    "collapsed": true
   },
   "outputs": [],
   "source": [
    "# the only two python modules you will need for this tutorial are numpy and matplotlib\n",
    "import numpy as np\n",
    "import matplotlib.pyplot as plt\n",
    "% matplotlib inline"
   ]
  },
  {
   "cell_type": "markdown",
   "metadata": {},
   "source": [
    "### 2.1 The energy function and learning rule\n",
    "\n",
    "Consider a Hopfield network with $N$ neurons, denoted $S_i=\\pm1$ for unit $i$, with dynamics\n",
    "\n",
    "$$S_i = \\text{sgn}\\Big(\\sum_jw_{ij}S_j\\Big)$$\n",
    "\n",
    "The synaptic weights between units $i$ and $j$ is denoted $w_{ij}$ and is symmetric, such that $w_{ij}=w_{ji}$, and $w_{ii} = 0$ for all $i$. The energy function for the network is defined as\n",
    "\n",
    "$$H = -\\frac{1}{2}\\sum_{i=1}^N\\sum_{j=1}^Nw_{ij}S_iS_j$$."
   ]
  },
  {
   "cell_type": "markdown",
   "metadata": {},
   "source": [
    "(a) Show that the dynamical update rule defined above will never increase the energy (Hint: consider an arbitrary neuron $i$ which starts in a state $S_i$, and then follows the update rule to move to a new state $S_i'$ -- calculate $H'-H$. Assume that all other neurons remain the same, i.e., $S_j' = S_j$ for $j\\neq i$)."
   ]
  },
  {
   "cell_type": "markdown",
   "metadata": {},
   "source": [
    "(b) A reasonable criterion for the stability of each memory pattern is that it should correspond to a low energy state of the dynamics. Consider a Hopfield network with a single memory pattern stored, denoted $\\xi_i=\\pm1$. We define a new energy function\n",
    "\n",
    "$$H = -\\frac{1}{2N}\\Big(\\sum_iS_i\\xi_i\\Big)^2,$$\n",
    "\n",
    "which ensures that the energy is lowest when the network state perfectly overlaps with this memory pattern (convince yourself that this is true). Compare this expression with the energy function defined above. How should the weights be set to ensure that this is a low-energy state? What about for an arbitrary number of patterns?"
   ]
  },
  {
   "cell_type": "markdown",
   "metadata": {},
   "source": [
    "### 2.2 Pattern completion (programming exercise)\n",
    "\n",
    "Follow the code below to build a Hopfield network with 25 neurons which stores four patterns corresponding to the letters D, J, C, and M (see figure below). These patterns have been defined for you, as well as noisy versions of each one to be used as initial conditions. Set the weight matrix according to the Hebbian rule that you found in the previous section. Next, simulate the network dynamics until convergence for several noisy versions of each pattern (defined below). What do you see?"
   ]
  },
  {
   "cell_type": "code",
   "execution_count": 3,
   "metadata": {
    "collapsed": false
   },
   "outputs": [
    {
     "name": "stderr",
     "output_type": "stream",
     "text": [
      "/Users/wfpodlaski/anaconda/lib/python2.7/site-packages/matplotlib/cbook/deprecation.py:107: MatplotlibDeprecationWarning: Adding an axes using the same arguments as a previous axes currently reuses the earlier instance.  In a future version, a new instance will always be created and returned.  Meanwhile, this warning can be suppressed, and the future behavior ensured, by passing a unique label to each axes instance.\n",
      "  warnings.warn(message, mplDeprecation, stacklevel=1)\n"
     ]
    },
    {
     "data": {
      "image/png": "[encoded data removed]",
      "text/plain": [
       "<Figure size 700x400 with 8 Axes>"
      ]
     },
     "metadata": {},
     "output_type": "display_data"
    }
   ],
   "source": [
    "# INPUT PATTERNS AND NOISY VERSIONS\n",
    "# (already implemented, just run this block)\n",
    "\n",
    "N = 25\n",
    "p = 4\n",
    "\n",
    "# patterns to be stored (I)\n",
    "I = np.zeros((N,p))\n",
    "D = np.array([0,1,2,3,6,9,11,14,16,19,21,22,23])\n",
    "J = np.array([0,1,2,3,4,8,13,15,18,20,21,22])\n",
    "C = np.array([1,2,3,4,5,10,15,21,22,23,24])\n",
    "M = np.array([0,4,5,6,8,9,10,12,14,15,19,20,24])\n",
    "I[D,0] = 1.\n",
    "I[J,1] = 1.\n",
    "I[C,2] = 1.\n",
    "I[M,3] = 1.\n",
    "I = 2*I - 1\n",
    "\n",
    "# noisy patterns to be used as initial states (I_start)\n",
    "I_start = np.zeros((N,p))\n",
    "noisy_D = np.array([0,1,2,3,6,9,11,14,15,16,19,21,22,23])\n",
    "noisy_J = np.array([0,1,2,3,4,8,13,15,18,20,22])\n",
    "noisy_C = np.array([1,2,3,4,5,9,10,12,15,18,21,22,23,24])\n",
    "noisy_M = np.array([1,4,6,8,9,10,12,15,19,20,24])\n",
    "I_start[noisy_D,0] = 1.\n",
    "I_start[noisy_J,1] = 1.\n",
    "I_start[noisy_C,2] = 1.\n",
    "I_start[noisy_M,3] = 1.\n",
    "I_start = 2*I_start - 1\n",
    "\n",
    "def reshape_pattern(x):\n",
    "    return np.reshape(x,(5,5))\n",
    "\n",
    "letters = ['D','J','C','M']\n",
    "\n",
    "f = plt.figure(figsize=(7,4))\n",
    "for i in range(4):\n",
    "    plt.subplot(2,4,i+1)\n",
    "    plt.imshow(reshape_pattern(I[:,i]),cmap='Greys')\n",
    "    plt.xticks(())\n",
    "    plt.yticks(())\n",
    "    plt.title(letters[i],fontsize=16)\n",
    "    plt.subplot(2,4,i+5)\n",
    "    plt.imshow(reshape_pattern(I_start[:,i]),cmap='Greys')\n",
    "    plt.xticks(())\n",
    "    plt.yticks(())\n",
    "plt.subplot(2,4,1)    \n",
    "plt.ylabel(\"Memory Patterns\",fontsize=14)\n",
    "plt.subplot(2,4,5)\n",
    "plt.ylabel(\"Initial Conditions\",fontsize=14)\n",
    "plt.tight_layout()"
   ]
  },
  {
   "cell_type": "code",
   "execution_count": 4,
   "metadata": {
    "collapsed": false
   },
   "outputs": [
    {
     "data": {
      "text/plain": [
       "<matplotlib.colorbar.Colorbar at 0x11292fa50>"
      ]
     },
     "execution_count": 4,
     "metadata": {},
     "output_type": "execute_result"
    },
    {
     "data": {
      "image/png": "[encoded data removed]",
      "text/plain": [
       "<Figure size 600x400 with 2 Axes>"
      ]
     },
     "metadata": {},
     "output_type": "display_data"
    }
   ],
   "source": [
    "# STEP 1 -- DEFINE WEIGHT MATRIX\n",
    "# don't forget to remove self-connections!\n",
    "\n",
    "# implement this function which returns the weight matrix for a particular set of input patterns\n",
    "def learn_weights(inpt):\n",
    "    W = np.zeros((inpt.shape[0],inpt.shape[0])) # replace this line\n",
    "    return W\n",
    "\n",
    "W = learn_weights(I)\n",
    "plt.imshow(W,cmap='RdBu')\n",
    "plt.colorbar()"
   ]
  },
  {
   "cell_type": "code",
   "execution_count": 6,
   "metadata": {
    "collapsed": false
   },
   "outputs": [],
   "source": [
    "# STEP 2 - SIMULATE\n",
    "\n",
    "# write a function that takes a weight matrix and initial condition and simulates the dynamics\n",
    "# until convergence or until a maximum number of 50 time steps is reached\n",
    "# this function should return the resulting memory state\n",
    "def simulate_hopfield(W,init):\n",
    "    # implement here!\n",
    "    S = init\n",
    "    return S\n",
    "\n",
    "# choose one of the noisy patterns as initial state\n",
    "# try out all four! (x=0 to x=3)\n",
    "x=0\n",
    "S0 = I_start[:,x]\n",
    "S = simulate_hopfield(W,S0)"
   ]
  },
  {
   "cell_type": "code",
   "execution_count": 7,
   "metadata": {
    "collapsed": false
   },
   "outputs": [
    {
     "data": {
      "text/plain": [
       "Text(0.5,1,'Final State')"
      ]
     },
     "execution_count": 7,
     "metadata": {},
     "output_type": "execute_result"
    },
    {
     "data": {
      "image/png": "[encoded data removed]",
      "text/plain": [
       "<Figure size 600x400 with 2 Axes>"
      ]
     },
     "metadata": {},
     "output_type": "display_data"
    }
   ],
   "source": [
    "# PLOTTING\n",
    "# (just run, already implemented)\n",
    "\n",
    "plt.figure()\n",
    "plt.subplot(1,2,1)\n",
    "plt.imshow(reshape_pattern(S0),cmap='Greys')\n",
    "plt.xticks(())\n",
    "plt.yticks(())\n",
    "plt.title(\"Initial State\",fontsize=16)\n",
    "plt.subplot(1,2,2)\n",
    "plt.imshow(reshape_pattern(S),cmap='Greys')\n",
    "plt.xticks(())\n",
    "plt.yticks(())\n",
    "plt.title(\"Final State\",fontsize=16)"
   ]
  },
  {
   "cell_type": "markdown",
   "metadata": {},
   "source": [
    "### 2.3 Estimating the memory capacity with signal-to-noise analysis\n",
    "\n",
    "Consider a Hopfield network with $N$ units, storing a set of $p$ patterns using the Hebbian learning rule $w_{ij} = \\frac{1}{N}\\sum_{\\mu=1}^p\\xi_i^\\mu\\xi_j^\\mu$. We'd like to know how many patterns we can store in this network such that each one is a stable fixed point of the dynamics. There are many ways to do this, but here's one simple criterion: if all of the memory patterns are stable, then when the network is sitting in a memory state, it should stay there. In other words, all of the neurons that are currently active should remain active, and all of the neurons that are currently inactive should remain inactive.\n",
    "\n",
    "To make this a bit more quantitative, let's consider the input to an arbitrary unit $i$ when the network is sitting in one of the memory states, say for pattern $1$. This input is defined as: $h_i^1 = \\sum_{j=1}^Nw_{ij}S_j$. If we are around a memory state $1$, then we want our unit $i$ to remain in the correct state $\\xi_i^1$. Therefore, we need the following inequalities to hold:\n",
    "\n",
    "$$ \\begin{cases}\n",
    "h_i^1 > 0 &\\text{for } \\xi_i^1 = +1,\\\\\n",
    "h_i^1 < 0 &\\text{for } \\xi_i^1 = -1.\n",
    "\\end{cases} $$\n",
    "\n",
    "If we ensure that the probability of this input flipping sign is low, then we can be reasonably sure that our memories are stable! Let's now use this simple idea to estimate the memory capacity of the standard Hopfield network."
   ]
  },
  {
   "cell_type": "markdown",
   "metadata": {},
   "source": [
    "a) We now define a quantity $C_i^1 := \\xi_i^1h_i^1$, which is simply the input to unit $i$ at pattern $1$ multiplied by the desired pattern state of unit $i$ for pattern $1$. Before we do any calculations, let's try to understand what this quantity $C_i^1$ means. It is simple to see that using $C_i^1$ instead of $h_i^1$ reduces the two inequalities defined above to a single one: $C_i^1 > 0$ (convince yourself that this is true!). Based on this, we can define a probability of making an error as:\n",
    "\n",
    "$$P_{\\text{err}} = \\Pr(C_i^1 < 0)$$\n",
    "\n",
    "b) Simplify the expression for $C_i^1$ such that it only depends upon the input patterns (i.e., only terms with $\\xi_i^\\mu$ ; Hint: (i) use the definition of the Hebbian learning rule for $w_{ij}$, and (ii) use the fact that the network is in memory state $1$, so $S_i = \\xi_i^1$)."
   ]
  },
  {
   "cell_type": "markdown",
   "metadata": {},
   "source": [
    "c) Simplify the resulting equation further by pulling out part of the sum -- all terms for $\\mu=1$. You should now have two terms, with the first being a single scalar number (the signal), and the second term depending on the other patterns (the noise, often called crosstalk). If the patterns are chosen randomly as $\\pm1$ with equal probability, what distribution will the second term resemble? (Hint: it is a sum of a finite number of binary terms, or trials) Can we approximate it by an even simpler distribution? (Hint: Gaussian)"
   ]
  },
  {
   "cell_type": "markdown",
   "metadata": {},
   "source": [
    "d) If we define an arbitrary cutoff $P_{\\text{err}} < 0.01$, how many memories can be stored in the network? (Hints: (i) you should get something that scales with the network size $N$; (ii) since we are dealing with a Gaussian distribution, consider using the error function)."
   ]
  },
  {
   "cell_type": "markdown",
   "metadata": {},
   "source": [
    "### 2.4 Test memory capacity of Hopfield network\n",
    "\n",
    "The analytical result found in the previous question involved several assumptions and shortcuts. Let's test it out by simulating Hopfield networks storing different numbers of patterns and then testing how stable the memories are. In order to test the stability of a memory, one simple way is to initialize the network in the memory state and simulate the dynamics until convergence (or until a maximum number of iterations is reached). If the network is still at or close to the same memory state, then we can be reasonably sure that the memory is stable enough. In order to measure how close the network is to a memory state, we will use a criterion called overlap, defined as\n",
    "\n",
    "$$m^\\mu = \\frac{1}{N}\\sum_{i=1}^N S_i\\xi_i^\\mu$$\n",
    "\n",
    "for pattern $\\mu$. The overlap is bounded between $-1$ and $1$, with $1$ meaning that the network is sitting at the memory, and $0$ meaning that it is uncorrelated with the memory. If we simulate the network starting at each memory, and the average overlap after simulation is close to $1$, then we can assume that all of the patterns are reasonably stable.\n",
    "\n",
    "You will simulate this test below in three steps. First, you will need to write a function which takes a weight matrix, initial state, and memory pattern, and returns the resulting overlap of the memory state following simulation of the dynamics. Use the function that you wrote before for the pattern completion question. Next, you will need to write a function that takes in all memory patterns, and simulates each of them, returining the average overlap. You should call the function overlap in this one. Finally, loop through different numbers of patterns and call the avgoverlap function for different numbers of trials. Plot the results."
   ]
  },
  {
   "cell_type": "code",
   "execution_count": 8,
   "metadata": {
    "collapsed": false
   },
   "outputs": [],
   "source": [
    "### Step 1 -- write a function that takes a weight matrix, initial condition and memory pattern and returns\n",
    "# the overlap of the network state with that pattern following simulation\n",
    "# use your previous code (perhaps the simulate_hopfield function)!\n",
    "\n",
    "def overlap(W,init,I):\n",
    "    # implement here!\n",
    "    return 0.\n",
    "\n",
    "### Step 2 -- write a function that gets average overlap for all patterns given a weight matrix and a set\n",
    "# of patterns, and returns the mean overlap across all patterns\n",
    "# again, use previous code (use the overlap function that you just wrote)\n",
    "\n",
    "def avg_overlap(W,Imat):\n",
    "    # implement here!\n",
    "    return 0.\n",
    "\n",
    "def generate_random_patterns(N,p):\n",
    "    I = np.random.binomial(1,0.5,(N,p))\n",
    "    return 2*I - 1\n",
    "\n",
    "### Step 3 -- iterate over different numbers of patterns and measure the average overlap over 10 trials for each\n",
    "# use the functions above -- avg_overlap, generate_random_patterns and learn_weights\n",
    "\n",
    "N = 200\n",
    "ntrials = 10\n",
    "p_vals = range(1,40)\n",
    "overlap_mat = np.zeros((len(p_vals),ntrials))\n",
    "for i in range(len(p_vals)):\n",
    "    for j in range(ntrials):\n",
    "        # implement here! -- generate patterns, learn weights, and compute overlap\n",
    "        pass\n"
   ]
  },
  {
   "cell_type": "code",
   "execution_count": 9,
   "metadata": {
    "collapsed": false
   },
   "outputs": [
    {
     "data": {
      "text/plain": [
       "Text(0.5,0,'Number of stored patterns')"
      ]
     },
     "execution_count": 9,
     "metadata": {},
     "output_type": "execute_result"
    },
    {
     "data": {
      "image/png": "[encoded data removed]",
      "text/plain": [
       "<Figure size 600x400 with 1 Axes>"
      ]
     },
     "metadata": {},
     "output_type": "display_data"
    }
   ],
   "source": [
    "plt.figure()\n",
    "plt.plot(p_vals,np.mean(overlap_mat,axis=1))\n",
    "plt.plot(p_vals,0.97*np.ones((len(p_vals))),'--')\n",
    "plt.legend(('average performance','cutoff'))\n",
    "plt.ylabel('Average performance (overlap)',fontsize=14)\n",
    "plt.xlabel('Number of stored patterns',fontsize=14)"
   ]
  },
  {
   "cell_type": "markdown",
   "metadata": {},
   "source": [
    "### 2.5 Incremental learning and forgetting (programming exercise)"
   ]
  },
  {
   "cell_type": "markdown",
   "metadata": {},
   "source": [
    "Up to now, we have assumed that a network can be trained with all patterns at once, and the weight matrix is set before simulation. However, in biology, memories are often learned incrementally over time. This poses a problem, however, because it means that the weight matrix needs to grow unbounded over time.\n",
    "\n",
    "In this exercise you will simulate an incremental learning paradigm, in which a Hopfield network is trained with patterns slowly over time, and the weights are bounded between different values. The weight matrix should begin at zero, and should be updated according to\n",
    "\n",
    "$$w_{ij}^\\text{new} = w_{ij}^\\text{old} + \\eta\\xi_i^\\mu\\xi_j^\\mu,$$\n",
    "\n",
    "with $w_{ij} \\in [-A,A]$. Implement this below for a network of size $200$ with $90$ patterns trained over time. Observe what happens when the network is tested at a different number of patterns. Play around with the value of $A$. How does this affect performance?"
   ]
  },
  {
   "cell_type": "code",
   "execution_count": 11,
   "metadata": {
    "collapsed": false
   },
   "outputs": [
    {
     "data": {
      "text/plain": [
       "Text(0.5,0,'Pattern number (learned in order)')"
      ]
     },
     "execution_count": 11,
     "metadata": {},
     "output_type": "execute_result"
    },
    {
     "data": {
      "image/png": "[encoded data removed]",
      "text/plain": [
       "<Figure size 600x400 with 1 Axes>"
      ]
     },
     "metadata": {},
     "output_type": "display_data"
    }
   ],
   "source": [
    "N = 200\n",
    "\n",
    "# STEP 1 -- implement update weights function\n",
    "# the function receives the current weight W, the bound value A, the learning rate eta, and the new input I\n",
    "def update_weights(W,A,eta,I):\n",
    "    return W\n",
    "\n",
    "# STEP 2 -- simulate a series of patterns\n",
    "# plot the performance intermittently after 20,40,60, and 80 patterns have been stored\n",
    "W = np.zeros((N,N))\n",
    "max_pats = 90\n",
    "Imat = generate_random_patterns(N,max_pats)\n",
    "eta = 1./N\n",
    "A = 5.0*eta\n",
    "\n",
    "plt.figure()\n",
    "for i in range(max_pats):\n",
    "    # implement and plot here!\n",
    "    pass\n",
    "plt.ylabel('Average performance (overlap)',fontsize=14)\n",
    "plt.xlabel('Pattern number (learned in order)',fontsize=14)\n"
   ]
  },
  {
   "cell_type": "code",
   "execution_count": null,
   "metadata": {
    "collapsed": true
   },
   "outputs": [],
   "source": []
  }
 ],
 "metadata": {
  "anaconda-cloud": {},
  "kernelspec": {
   "display_name": "Python [Root]",
   "language": "python",
   "name": "Python [Root]"
  },
  "language_info": {
   "codemirror_mode": {
    "name": "ipython",
    "version": 2
   },
   "file_extension": ".py",
   "mimetype": "text/x-python",
   "name": "python",
   "nbconvert_exporter": "python",
   "pygments_lexer": "ipython2",
   "version": "2.7.6"
  }
 },
 "nbformat": 4,
 "nbformat_minor": 0
}
